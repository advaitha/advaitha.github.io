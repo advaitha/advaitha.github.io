{
 "cells": [
  {
   "cell_type": "code",
   "execution_count": 1,
   "metadata": {},
   "outputs": [],
   "source": [
    "# Numpy in Action\n",
    "\n",
    "import numpy as np  #alias \n"
   ]
  },
  {
   "cell_type": "code",
   "execution_count": 3,
   "metadata": {},
   "outputs": [
    {
     "name": "stdout",
     "output_type": "stream",
     "text": [
      "[1 2 3 4]\n",
      "<class 'numpy.ndarray'>\n"
     ]
    }
   ],
   "source": [
    "myPythonList = [ 1,2,3,4]\n",
    "\n",
    "#lets convert list into numpy array | memory effciency and performence\n",
    "\n",
    "numpy_array = np.array(myPythonList)\n",
    "\n",
    "print(numpy_array)\n",
    "print(type(numpy_array))\n"
   ]
  },
  {
   "cell_type": "code",
   "execution_count": 7,
   "metadata": {},
   "outputs": [
    {
     "name": "stdout",
     "output_type": "stream",
     "text": [
      "[1 2 3 4]\n",
      "int32\n",
      "[1. 2. 3.]\n",
      "float64\n",
      "[1 2]\n",
      "int64\n"
     ]
    }
   ],
   "source": [
    "# Arrays of various Data Types\n",
    "\n",
    "x = np.array([1,2,3,4])\n",
    "print(x)\n",
    "print(x.dtype)\n",
    "\n",
    "y= np.array([1.0,2.0,3.0])\n",
    "print(y)\n",
    "print(y.dtype)\n",
    "\n",
    "z= np.array([1,2],dtype=np.int64)\n",
    "print(z)\n",
    "print(z.dtype)"
   ]
  },
  {
   "cell_type": "code",
   "execution_count": 11,
   "metadata": {},
   "outputs": [
    {
     "name": "stdout",
     "output_type": "stream",
     "text": [
      "The Total Size Occupied by Python List  28000\n",
      "The Total size of NumPy Array 4000\n"
     ]
    }
   ],
   "source": [
    "#How Numpy is Memory efficient !!\n",
    "\n",
    "# we are going to create a list (python) and array(numpy) of size 1000 elements\n",
    "# we are going to check the total memory occupancy of each list/array\n",
    "\n",
    "import sys\n",
    "\n",
    "python_list=range(1000) #range function generates numbers from 0 to n-1\n",
    "\n",
    "numpy_array = np.arange(1000) # arange does the same work as range in python.\n",
    "\n",
    "print(\"The Total Size Occupied by Python List \",len(python_list)*sys.getsizeof(1))\n",
    "print(\"The Total size of NumPy Array\",numpy_array.size * numpy_array.itemsize)\n",
    "      \n",
    "#numpy_array.size : return number of elements in array\n",
    "#numpy_array.itemsize : returns size occuped by 1 element in numpy array\n",
    "\n"
   ]
  },
  {
   "cell_type": "code",
   "execution_count": 18,
   "metadata": {},
   "outputs": [
    {
     "name": "stdout",
     "output_type": "stream",
     "text": [
      "List Took  230.38530349731445  Milliseconds\n",
      "Numpy Took  18.94855499267578  Milliseconds\n"
     ]
    }
   ],
   "source": [
    "#Performence Factor in Numpy : output: in the milliseconds sense\n",
    "# i am going to create two python list   and two numpy arrays...\n",
    "# i am going to see the difference in time (time comparision) while adding the two list.\n",
    "\n",
    "import time\n",
    "SIZE=1000000\n",
    "\n",
    "L1 = range(SIZE)\n",
    "L2= range(SIZE)\n",
    "\n",
    "A1=np.arange(SIZE)\n",
    "A2=np.arange(SIZE)\n",
    "\n",
    "start= time.time()# started the time tracking \n",
    "\n",
    "result = [(x+y) for x,y in zip(L1,L2)]\n",
    "\n",
    "stop=time.time() # getting the current time after additions\n",
    "\n",
    "print(\"List Took \",(stop-start)*1000,\" Milliseconds\")\n",
    "\n",
    "# Lets do time tracking for Numpy\n",
    "\n",
    "start=time.time()\n",
    "\n",
    "result= A1+A2\n",
    "\n",
    "stop=time.time()\n",
    "\n",
    "print(\"Numpy Took \",(stop-start)*1000,\" Milliseconds\")\n"
   ]
  },
  {
   "cell_type": "code",
   "execution_count": 30,
   "metadata": {},
   "outputs": [
    {
     "name": "stdout",
     "output_type": "stream",
     "text": [
      "[[0.93278611 0.1308192  0.95287047 0.22690777 0.29627644 0.56730825]\n",
      " [0.50649887 0.29527444 0.20879666 0.18305051 0.47006261 0.99848916]]\n",
      "['o' 'i' 'a' 'u' 'i' 'u' 'u' 'a' 'e' 'a']\n"
     ]
    }
   ],
   "source": [
    "#Generating random Numbers in numpy..\n",
    "\n",
    "print(np.random.rand(2,6)) #it generates an array of given dimension and the numbers\n",
    "#will be between 1 and 0\n",
    "\n",
    "print(np.random.choice(['a','e','i','o','u'],size=10))"
   ]
  },
  {
   "cell_type": "code",
   "execution_count": 32,
   "metadata": {},
   "outputs": [
    {
     "name": "stdout",
     "output_type": "stream",
     "text": [
      "[1 2 3 4]\n",
      "(4,)\n"
     ]
    }
   ],
   "source": [
    "#Shape of Arrays: it tells you about the demensionality of numpy ndarray \n",
    "\n",
    "a = np.array([1,2,3,4]) #its a 1d array\n",
    "print(a)\n",
    "print(a.shape) #what .shape does it return number of elements in 1 day array case only."
   ]
  },
  {
   "cell_type": "code",
   "execution_count": 35,
   "metadata": {},
   "outputs": [
    {
     "name": "stdout",
     "output_type": "stream",
     "text": [
      "(2, 4)\n"
     ]
    }
   ],
   "source": [
    "#Creating 2D array\n",
    "b = np.array([[1,2,3,4],[5,6,7,8]])\n",
    "\n",
    "\"\"\"\n",
    "1 2 3 4\n",
    "5 6 7 8\n",
    "\"\"\"\n",
    "print(b.shape) #shape makes sense..\n"
   ]
  },
  {
   "cell_type": "code",
   "execution_count": 41,
   "metadata": {},
   "outputs": [
    {
     "name": "stdout",
     "output_type": "stream",
     "text": [
      "Shape of b is  (2, 4)\n",
      "\n",
      "\n",
      "\n",
      "[[1 2]\n",
      " [3 4]\n",
      " [5 6]\n",
      " [7 8]]\n",
      "shape  (4, 2)\n",
      "After flattening\n",
      "\n",
      "[1 2 3 4 5 6 7 8]\n"
     ]
    }
   ],
   "source": [
    "b = np.array([[1,2,3,4],[5,6,7,8]])\n",
    "\n",
    "print(\"Shape of b is \",b.shape)\n",
    "\n",
    "#reshape the array\n",
    "\n",
    "b = b.reshape(4,2)\n",
    "print(\"\\n\\n\")\n",
    "print(b)\n",
    "\n",
    "print(\"shape \",b.shape)\n",
    "\n",
    "#Flatten\n",
    "\n",
    "b = b.flatten() # its bring all the values in 1D order\n",
    "print(\"After flattening\\n\")\n",
    "print(b)\n",
    "\n",
    "# [[[2,3,4],[5,6,7]]]"
   ]
  },
  {
   "cell_type": "code",
   "execution_count": null,
   "metadata": {},
   "outputs": [],
   "source": [
    "#testing \n",
    "\n",
    "a =np.array([1,2,3,4,5])\n",
    "print(type(a))\n",
    "\n",
    "print(a.shape)\n",
    "\n",
    "print(a[0],a[1],[2])\n",
    "\n",
    "a[0]=5   # <-- if you change any indexvalue it is reflected in original array(referencing.)\n",
    "print(a)\n",
    "\n",
    "b= np.array([[1,2,3],[4,5,6]])\n",
    "\n",
    "\"\"\"\n",
    "1 2 3\n",
    "4 5 6\n",
    "\"\"\"\n",
    "print(b[0,0],b[0,1],b[1,0])\n"
   ]
  },
  {
   "cell_type": "code",
   "execution_count": null,
   "metadata": {},
   "outputs": [],
   "source": [
    "#Slicing in 2D Array"
   ]
  },
  {
   "cell_type": "code",
   "execution_count": 49,
   "metadata": {},
   "outputs": [
    {
     "name": "stdout",
     "output_type": "stream",
     "text": [
      "(3, 4)\n",
      "[5 6 7 8]\n",
      "[[5 6 7 8]]\n",
      "[ 2  6 10]\n",
      "[[2 3]\n",
      " [6 7]]\n"
     ]
    }
   ],
   "source": [
    "a = np.array([[1,2,3,4],[5,6,7,8],[9,10,11,12]])\n",
    "print(a.shape)\n",
    "\"\"\"\n",
    "1  2  3  4\n",
    "5  6  7  8\n",
    "9 10 11 12\n",
    "\"\"\"\n",
    "\n",
    "#Challenge is to retrieve the 1st(index) row\n",
    "\n",
    "row_1= a[1,:] # a [ row_index : ColumnIndex]\n",
    "print(row_1)\n",
    "\n",
    "row_1_copy=a[1:2,:]  # [1 to n-1]\n",
    "print(row_1_copy)\n",
    "\n",
    "#print [2,6,10]\n",
    "\n",
    "print(a[:,1])\n",
    "\n",
    "#Pull [2,3,6,7]\n",
    "\n",
    "print(a[:2,1:3]) \n"
   ]
  },
  {
   "cell_type": "code",
   "execution_count": 57,
   "metadata": {},
   "outputs": [
    {
     "name": "stdout",
     "output_type": "stream",
     "text": [
      "[[ 1.  2.  3.  4.]\n",
      " [ 5.  6.  7.  8.]\n",
      " [ 9. 10. 11. 12.]]\n",
      "Mean value is  6.5\n",
      "Max value is  12.0\n",
      "Min Value is  1.0\n",
      "Column wise min  [1. 2. 3. 4.]\n",
      "Row wise min  [1. 5. 9.]\n"
     ]
    }
   ],
   "source": [
    "#Mathematical Computations!!\n",
    "\n",
    "mylist = [[1,2,3,4],[5,6,7,8],[9,10,11,12]]\n",
    "\n",
    "np_arr = np.array(mylist,dtype=\"float\")\n",
    "\n",
    "print(np_arr)\n",
    "\n",
    "print(\"Mean value is \",np_arr.mean())\n",
    "print(\"Max value is \",np_arr.max())\n",
    "print(\"Min Value is \",np_arr.min())\n",
    "\n",
    "#======================\n",
    "print(\"Column wise min \",np.amin(np_arr,axis=0))\n",
    "print(\"Row wise min \",np.amin(np_arr,axis=1))\n"
   ]
  },
  {
   "cell_type": "code",
   "execution_count": 61,
   "metadata": {},
   "outputs": [
    {
     "name": "stdout",
     "output_type": "stream",
     "text": [
      "[[ 6  8]\n",
      " [10 12]]\n",
      "[[-4 -4]\n",
      " [-4 -4]]\n",
      "[[ 5 12]\n",
      " [21 32]]\n"
     ]
    }
   ],
   "source": [
    "# maths with np array\n",
    "x= np.array([[1,2],[3,4]])\n",
    "y=np.array([[5,6],[7,8]])\n",
    "\n",
    "r1 = x+y\n",
    "print(r1)\n",
    "\n",
    "r2=x-y\n",
    "r2=np.subtract(x,y)\n",
    "print(r2)\n",
    "\n",
    "r3=x*y\n",
    "r3=np.multiply(x,y)\n",
    "print(r3)\n",
    "\n",
    "#Can you send me the divide in chat window.."
   ]
  },
  {
   "cell_type": "code",
   "execution_count": 65,
   "metadata": {},
   "outputs": [
    {
     "name": "stdout",
     "output_type": "stream",
     "text": [
      "[[[1 2 3]\n",
      "  [1 2 3]]]\n",
      "(1, 2, 3)\n"
     ]
    }
   ],
   "source": [
    "#3d \n",
    "\n",
    "a = np.array([ [[1,2,3],[1,2,3]]  ])\n",
    "print(a)\n",
    "print(a.shape)"
   ]
  },
  {
   "cell_type": "code",
   "execution_count": null,
   "metadata": {},
   "outputs": [],
   "source": []
  },
  {
   "cell_type": "code",
   "execution_count": null,
   "metadata": {},
   "outputs": [],
   "source": []
  },
  {
   "cell_type": "code",
   "execution_count": null,
   "metadata": {},
   "outputs": [],
   "source": []
  },
  {
   "cell_type": "code",
   "execution_count": null,
   "metadata": {},
   "outputs": [],
   "source": []
  },
  {
   "cell_type": "code",
   "execution_count": null,
   "metadata": {},
   "outputs": [],
   "source": []
  },
  {
   "cell_type": "code",
   "execution_count": null,
   "metadata": {},
   "outputs": [],
   "source": []
  }
 ],
 "metadata": {
  "kernelspec": {
   "display_name": "Python 3",
   "language": "python",
   "name": "python3"
  },
  "language_info": {
   "codemirror_mode": {
    "name": "ipython",
    "version": 3
   },
   "file_extension": ".py",
   "mimetype": "text/x-python",
   "name": "python",
   "nbconvert_exporter": "python",
   "pygments_lexer": "ipython3",
   "version": "3.7.1"
  }
 },
 "nbformat": 4,
 "nbformat_minor": 2
}
